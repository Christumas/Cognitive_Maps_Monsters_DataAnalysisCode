{
 "cells": [
  {
   "cell_type": "code",
   "execution_count": 1,
   "id": "c4aed0dc",
   "metadata": {},
   "outputs": [],
   "source": [
    "import json\n",
    "import pandas as pd\n",
    "import numpy as np\n",
    "import seaborn as sns\n",
    "import matplotlib.pyplot as plt\n",
    "import os \n",
    "from PIL import Image\n",
    "from matplotlib.offsetbox import OffsetImage, AnnotationBbox"
   ]
  },
  {
   "cell_type": "markdown",
   "id": "e05aa21a",
   "metadata": {},
   "source": [
    "<h2>Plots of the coefficients of the predictors for each participant <h2>"
   ]
  },
  {
   "cell_type": "code",
   "execution_count": 2,
   "id": "5da61343",
   "metadata": {},
   "outputs": [],
   "source": [
    "#helper function to calculate number of subplots\n",
    "def calc_subplots(n_datasets,ncolumns):\n",
    "    subplots = n_datasets\n",
    "    columns = ncolumns\n",
    "\n",
    "    rows = subplots // columns\n",
    "\n",
    "    if subplots % columns != 0:\n",
    "        rows +=1 \n",
    "\n",
    "    return (rows, columns)"
   ]
  },
  {
   "cell_type": "code",
   "execution_count": null,
   "id": "c5b790c4",
   "metadata": {},
   "outputs": [
    {
     "data": {
      "text/plain": [
       "(1, 3)"
      ]
     },
     "execution_count": 4,
     "metadata": {},
     "output_type": "execute_result"
    }
   ],
   "source": [
    "results_folder = os.listdir('LogisticModel_Results')\n",
    "ppID = 0 #counter for the participants (important later for labelling subplots)\n",
    "\n",
    "layout = calc_subplots(len(results_folder), 3)\n",
    "\n",
    "for participant_data in results_folder:\n",
    "    ppID += 1\n",
    "\n",
    "    \n",
    "\n",
    "\n"
   ]
  }
 ],
 "metadata": {
  "kernelspec": {
   "display_name": "base",
   "language": "python",
   "name": "python3"
  },
  "language_info": {
   "codemirror_mode": {
    "name": "ipython",
    "version": 3
   },
   "file_extension": ".py",
   "mimetype": "text/x-python",
   "name": "python",
   "nbconvert_exporter": "python",
   "pygments_lexer": "ipython3",
   "version": "3.11.4"
  }
 },
 "nbformat": 4,
 "nbformat_minor": 5
}
