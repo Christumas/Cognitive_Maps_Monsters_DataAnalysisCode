{
 "cells": [
  {
   "cell_type": "markdown",
   "id": "7a7bc259",
   "metadata": {},
   "source": [
    "# Analysis Code"
   ]
  },
  {
   "cell_type": "code",
   "execution_count": 13,
   "id": "c8b5ad42",
   "metadata": {},
   "outputs": [],
   "source": [
    "import pandas as pd\n",
    "import numpy as np\n",
    "import matplotlib.pyplot as plt\n",
    "import os\n",
    "import statsmodels.api as sm"
   ]
  },
  {
   "cell_type": "markdown",
   "id": "502393a9",
   "metadata": {},
   "source": [
    "<p>Now based off the computed differences of the different criteria. We now will use a logistic regression to analyze\n",
    "where if these differences are able to predict the probability of choosing the left monster (could also be right, this choice\n",
    "is just arbitrary). In simpler terms, by using this statistical model, can we see if these criteria actually play a role in how they choose a monster.</p> "
   ]
  },
  {
   "cell_type": "code",
   "execution_count": 38,
   "id": "f5bc6c99",
   "metadata": {},
   "outputs": [
    {
     "name": "stdout",
     "output_type": "stream",
     "text": [
      "Optimization terminated successfully.\n",
      "         Current function value: 0.596684\n",
      "         Iterations 5\n",
      "Optimization terminated successfully.\n",
      "         Current function value: 0.163041\n",
      "         Iterations 9\n"
     ]
    }
   ],
   "source": [
    "dataset_folder = os.listdir('ProcessedData_ForAnalysis')\n",
    "\n",
    "for participant_data in dataset_folder:\n",
    "    data = pd.read_csv(f'ProcessedData_ForAnalysis/{participant_data}')\n",
    "    data.drop(data.columns[0], axis=1) #there was a duplicate of the trial_index column called unnamed, dropping it here\n",
    "\n",
    "    ppID = ''.join(character for character in participant_data if character.isdigit())\n",
    "\n",
    "    #run the logistic regression model for each participant\n",
    "\n",
    "    #defining variables\n",
    "    independent_vars = data[['Color_d', 'Cuteness_d', 'Emotions_d', 'Personal_Preference_d', 'Shape_d','Size_d']]\n",
    "    dependent_var = data['Chosen_Monster']\n",
    "\n",
    "    #adding intercept\n",
    "    intercept = sm.add_constant(independent_vars)\n",
    "\n",
    "    logistic_model = sm.Logit(dependent_var, independent_vars)\n",
    "    result = logistic_model.fit()\n",
    "\n",
    "    model_result = pd.DataFrame({\n",
    "        \"coefficients\":result.params,\n",
    "        \"pvals\" : result.pvalues,\n",
    "        \"stderr\" : result.bse,\n",
    "        \"t\" : result.tvalues\n",
    "        })\n",
    "\n",
    "\n",
    "    probabilities = result.predict(independent_vars)\n",
    "\n",
    "    #save the model results for each participant\n",
    "    model_result.to_csv(f'LogisticModel_Results/LogisticM_Result_{ppID}')\n"
   ]
  },
  {
   "cell_type": "code",
   "execution_count": 37,
   "id": "0baf9b7f",
   "metadata": {},
   "outputs": [
    {
     "data": {
      "text/html": [
       "<div>\n",
       "<style scoped>\n",
       "    .dataframe tbody tr th:only-of-type {\n",
       "        vertical-align: middle;\n",
       "    }\n",
       "\n",
       "    .dataframe tbody tr th {\n",
       "        vertical-align: top;\n",
       "    }\n",
       "\n",
       "    .dataframe thead th {\n",
       "        text-align: right;\n",
       "    }\n",
       "</style>\n",
       "<table border=\"1\" class=\"dataframe\">\n",
       "  <thead>\n",
       "    <tr style=\"text-align: right;\">\n",
       "      <th></th>\n",
       "      <th>coefficients</th>\n",
       "      <th>pvals</th>\n",
       "      <th>stderr</th>\n",
       "      <th>t</th>\n",
       "    </tr>\n",
       "  </thead>\n",
       "  <tbody>\n",
       "    <tr>\n",
       "      <th>Color_d</th>\n",
       "      <td>0.002943</td>\n",
       "      <td>0.179458</td>\n",
       "      <td>0.002192</td>\n",
       "      <td>1.342426</td>\n",
       "    </tr>\n",
       "    <tr>\n",
       "      <th>Cuteness_d</th>\n",
       "      <td>-0.008977</td>\n",
       "      <td>0.020662</td>\n",
       "      <td>0.003879</td>\n",
       "      <td>-2.314099</td>\n",
       "    </tr>\n",
       "    <tr>\n",
       "      <th>Emotions_d</th>\n",
       "      <td>0.005814</td>\n",
       "      <td>0.022747</td>\n",
       "      <td>0.002553</td>\n",
       "      <td>2.277662</td>\n",
       "    </tr>\n",
       "    <tr>\n",
       "      <th>Personal_Preference_d</th>\n",
       "      <td>-0.016909</td>\n",
       "      <td>0.002324</td>\n",
       "      <td>0.005552</td>\n",
       "      <td>-3.045306</td>\n",
       "    </tr>\n",
       "    <tr>\n",
       "      <th>Shape_d</th>\n",
       "      <td>0.002047</td>\n",
       "      <td>0.314838</td>\n",
       "      <td>0.002037</td>\n",
       "      <td>1.005122</td>\n",
       "    </tr>\n",
       "    <tr>\n",
       "      <th>Size_d</th>\n",
       "      <td>0.001970</td>\n",
       "      <td>0.315087</td>\n",
       "      <td>0.001961</td>\n",
       "      <td>1.004606</td>\n",
       "    </tr>\n",
       "  </tbody>\n",
       "</table>\n",
       "</div>"
      ],
      "text/plain": [
       "                       coefficients     pvals    stderr         t\n",
       "Color_d                    0.002943  0.179458  0.002192  1.342426\n",
       "Cuteness_d                -0.008977  0.020662  0.003879 -2.314099\n",
       "Emotions_d                 0.005814  0.022747  0.002553  2.277662\n",
       "Personal_Preference_d     -0.016909  0.002324  0.005552 -3.045306\n",
       "Shape_d                    0.002047  0.314838  0.002037  1.005122\n",
       "Size_d                     0.001970  0.315087  0.001961  1.004606"
      ]
     },
     "execution_count": 37,
     "metadata": {},
     "output_type": "execute_result"
    }
   ],
   "source": [
    "model_result\n",
    "\n"
   ]
  },
  {
   "cell_type": "code",
   "execution_count": null,
   "id": "d823808e",
   "metadata": {},
   "outputs": [],
   "source": []
  }
 ],
 "metadata": {
  "kernelspec": {
   "display_name": "base",
   "language": "python",
   "name": "python3"
  },
  "language_info": {
   "codemirror_mode": {
    "name": "ipython",
    "version": 3
   },
   "file_extension": ".py",
   "mimetype": "text/x-python",
   "name": "python",
   "nbconvert_exporter": "python",
   "pygments_lexer": "ipython3",
   "version": "3.11.4"
  }
 },
 "nbformat": 4,
 "nbformat_minor": 5
}
